{
  "nbformat": 4,
  "nbformat_minor": 0,
  "metadata": {
    "colab": {
      "name": "Untitled25.ipynb",
      "provenance": [],
      "authorship_tag": "ABX9TyPgC/uYzvoQfEg8+s91r5YT",
      "include_colab_link": true
    },
    "kernelspec": {
      "name": "python3",
      "display_name": "Python 3"
    },
    "language_info": {
      "name": "python"
    }
  },
  "cells": [
    {
      "cell_type": "markdown",
      "metadata": {
        "id": "view-in-github",
        "colab_type": "text"
      },
      "source": [
        "<a href=\"https://colab.research.google.com/github/Podniske/Java/blob/master/Untitled25.ipynb\" target=\"_parent\"><img src=\"https://colab.research.google.com/assets/colab-badge.svg\" alt=\"Open In Colab\"/></a>"
      ]
    },
    {
      "cell_type": "code",
      "execution_count": 10,
      "metadata": {
        "id": "Dm5lw1TUu4lL",
        "colab": {
          "base_uri": "https://localhost:8080/"
        },
        "outputId": "3b6232e9-48d6-40b9-8d64-3e99a18834a7"
      },
      "outputs": [
        {
          "name": "stdout",
          "output_type": "stream",
          "text": [
            "Digite o primeiro número2\n",
            "Digite o primeiro número1\n"
          ]
        },
        {
          "output_type": "execute_result",
          "data": {
            "text/plain": [
              "2"
            ]
          },
          "metadata": {},
          "execution_count": 10
        }
      ],
      "source": [
        "\n",
        "\n",
        "n1 = int(input(\"Digite o primeiro número\"))\n",
        "n2 = int(input(\"Digite o primeiro número\"))\n",
        "\n",
        "def numero(n1,n2):\n",
        "  if n1 > n2:\n",
        "    return(n1)\n",
        "  else:\n",
        "    return(n2)\n",
        "\n",
        "numero(n1, n2)"
      ]
    }
  ]
}