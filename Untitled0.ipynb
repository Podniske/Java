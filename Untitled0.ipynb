{
  "nbformat": 4,
  "nbformat_minor": 0,
  "metadata": {
    "colab": {
      "name": "Untitled0.ipynb",
      "provenance": [],
      "authorship_tag": "ABX9TyP5MSOVhEgalbrgHhkr7r36",
      "include_colab_link": true
    },
    "kernelspec": {
      "name": "python3",
      "display_name": "Python 3"
    },
    "language_info": {
      "name": "python"
    }
  },
  "cells": [
    {
      "cell_type": "markdown",
      "metadata": {
        "id": "view-in-github",
        "colab_type": "text"
      },
      "source": [
        "<a href=\"https://colab.research.google.com/github/Podniske/Java/blob/master/Untitled0.ipynb\" target=\"_parent\"><img src=\"https://colab.research.google.com/assets/colab-badge.svg\" alt=\"Open In Colab\"/></a>"
      ]
    },
    {
      "cell_type": "code",
      "metadata": {
        "id": "ywrJRMU1h82d",
        "colab": {
          "base_uri": "https://localhost:8080/"
        },
        "outputId": "58c58530-1988-4bcd-a0ac-b229e72e818f"
      },
      "source": [
        "\n",
        "nivel_aula = int(input(\"Nível da Aula\"))\n",
        "horario_aula = int(input(\"Quantas horas de aula?\"))\n",
        "\n",
        "\n",
        "nivel_1 = 32.80\n",
        "nivel_2 = 44.15\n",
        "nivel_3 = 52.21\n",
        "\n",
        "\n",
        "\n",
        "if nivel_aula == 1:\n",
        "  som = horario_aula * nivel_1\n",
        "  print(\"Valor pago por\", horario_aula,\"horas de aula\", som)\n",
        "if nivel_aula == 2:\n",
        "  som = horario_aula * nivel_2\n",
        "  print(\"Valor pago por\", horario_aula,\"horas de aula\", som)\n",
        "\n",
        "else:\n",
        "  som = horario_aula * nivel_3\n",
        "  print(\"Valor pago por\", horario_aula,\"horas de aula\", som)\n"
      ],
      "execution_count": 3,
      "outputs": [
        {
          "output_type": "stream",
          "name": "stdout",
          "text": [
            "Nível da Aula3\n",
            "Quantas horas de aula?10\n",
            "Valor pago por 10 horas de aula 522.1\n"
          ]
        }
      ]
    }
  ]
}